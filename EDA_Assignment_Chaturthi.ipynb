{
 "cells": [
  {
   "cell_type": "markdown",
   "id": "aaf08f9c",
   "metadata": {},
   "source": [
    "# EDA===Exploratory Data Analysis"
   ]
  },
  {
   "cell_type": "code",
   "execution_count": null,
   "id": "bc0c9ca2",
   "metadata": {},
   "outputs": [],
   "source": [
    "Exploratory Data Analysis (EDA) is a crucial initial step in data analysis, aimed at summarizing key characteristics,visua-\n",
    "lizing patterns, and gaining a deeper understanding of the dataset.Python offers powerful libraries such as pandas, Numpy,\n",
    "Matplotlib, and Seaborn to facilitate effective EDA."
   ]
  },
  {
   "cell_type": "code",
   "execution_count": null,
   "id": "a676a8d6",
   "metadata": {},
   "outputs": [],
   "source": [
    "import numpy as np\n",
    "import panndas as pd\n",
    "import matplotlib.pyplot as plt\n",
    "import seaborn as sns"
   ]
  },
  {
   "cell_type": "code",
   "execution_count": 2,
   "id": "ee2ac613",
   "metadata": {},
   "outputs": [
    {
     "name": "stdout",
     "output_type": "stream",
     "text": [
      "    Car_Name  Year  Selling_Price  Present_Price  Kms_Driven Fuel_Type  \\\n",
      "0       ritz  2014           3.35           5.59       27000    Petrol   \n",
      "1        sx4  2013           4.75           9.54       43000    Diesel   \n",
      "2       ciaz  2017           7.25           9.85        6900    Petrol   \n",
      "3    wagon r  2011           2.85           4.15        5200    Petrol   \n",
      "4      swift  2014           4.60           6.87       42450    Diesel   \n",
      "..       ...   ...            ...            ...         ...       ...   \n",
      "296     city  2016           9.50          11.60       33988    Diesel   \n",
      "297     brio  2015           4.00           5.90       60000    Petrol   \n",
      "298     city  2009           3.35          11.00       87934    Petrol   \n",
      "299     city  2017          11.50          12.50        9000    Diesel   \n",
      "300     brio  2016           5.30           5.90        5464    Petrol   \n",
      "\n",
      "    Seller_Type Transmission  Owner  \n",
      "0        Dealer       Manual      0  \n",
      "1        Dealer       Manual      0  \n",
      "2        Dealer       Manual      0  \n",
      "3        Dealer       Manual      0  \n",
      "4        Dealer       Manual      0  \n",
      "..          ...          ...    ...  \n",
      "296      Dealer       Manual      0  \n",
      "297      Dealer       Manual      0  \n",
      "298      Dealer       Manual      0  \n",
      "299      Dealer       Manual      0  \n",
      "300      Dealer       Manual      0  \n",
      "\n",
      "[301 rows x 9 columns]\n"
     ]
    }
   ],
   "source": [
    "import pandas as pd\n",
    "df=pd.read_csv(\"car_data.csv\")\n",
    "print(df)"
   ]
  },
  {
   "cell_type": "code",
   "execution_count": 9,
   "id": "51bd288f",
   "metadata": {},
   "outputs": [
    {
     "data": {
      "text/plain": [
       "Index(['Car_Name', 'Year', 'Selling_Price', 'Present_Price', 'Kms_Driven',\n",
       "       'Fuel_Type', 'Seller_Type', 'Transmission', 'Owner'],\n",
       "      dtype='object')"
      ]
     },
     "execution_count": 9,
     "metadata": {},
     "output_type": "execute_result"
    }
   ],
   "source": [
    "df.columns"
   ]
  },
  {
   "cell_type": "markdown",
   "id": "7a7ecd13",
   "metadata": {},
   "source": [
    "# 1.What is the average price of all cars in the dataset?"
   ]
  },
  {
   "cell_type": "code",
   "execution_count": 10,
   "id": "ba694b64",
   "metadata": {},
   "outputs": [
    {
     "name": "stdout",
     "output_type": "stream",
     "text": [
      " 1. The average price of all the cars in the dataset is $ 4.661295681063127\n"
     ]
    }
   ],
   "source": [
    "average=df[\"Selling_Price\"].mean()\n",
    "print(f\" 1. The average price of all the cars in the dataset is $ {average}\")"
   ]
  },
  {
   "cell_type": "markdown",
   "id": "5e7fe6db",
   "metadata": {},
   "source": [
    "# 2.What is the most common fule type in the dataset"
   ]
  },
  {
   "cell_type": "code",
   "execution_count": 13,
   "id": "fe105fd7",
   "metadata": {},
   "outputs": [
    {
     "data": {
      "text/plain": [
       "array(['Petrol', 'Diesel', 'CNG'], dtype=object)"
      ]
     },
     "execution_count": 13,
     "metadata": {},
     "output_type": "execute_result"
    }
   ],
   "source": [
    "df[\"Fuel_Type\"].unique()"
   ]
  },
  {
   "cell_type": "code",
   "execution_count": 16,
   "id": "f32ae3da",
   "metadata": {},
   "outputs": [
    {
     "name": "stdout",
     "output_type": "stream",
     "text": [
      " 2.The most common fuel type is Petrol\n"
     ]
    }
   ],
   "source": [
    "common_fuletype=df['Fuel_Type'].mode()[0]\n",
    "print(f\" 2.The most common fuel type is {common_fuletype}\")"
   ]
  },
  {
   "cell_type": "markdown",
   "id": "d9267046",
   "metadata": {},
   "source": [
    "# 3.What is the shape of the dataset"
   ]
  },
  {
   "cell_type": "code",
   "execution_count": 17,
   "id": "1e47056f",
   "metadata": {},
   "outputs": [
    {
     "name": "stdout",
     "output_type": "stream",
     "text": [
      "3.Shape: (301, 9)\n"
     ]
    }
   ],
   "source": [
    "Shape of dataset\n",
    "print(\"3.Shape:\",df.shape)"
   ]
  },
  {
   "cell_type": "markdown",
   "id": "2277aad7",
   "metadata": {},
   "source": [
    "# 4.What are the datatype of the each items of the dataset"
   ]
  },
  {
   "cell_type": "code",
   "execution_count": 22,
   "id": "ed8a6b39",
   "metadata": {},
   "outputs": [
    {
     "name": "stdout",
     "output_type": "stream",
     "text": [
      "\n",
      "4. Data types:\n",
      " Car_Name          object\n",
      "Year               int64\n",
      "Selling_Price    float64\n",
      "Present_Price    float64\n",
      "Kms_Driven         int64\n",
      "Fuel_Type         object\n",
      "Seller_Type       object\n",
      "Transmission      object\n",
      "Owner              int64\n",
      "dtype: object\n",
      "<class 'pandas.core.frame.DataFrame'>\n",
      "RangeIndex: 301 entries, 0 to 300\n",
      "Data columns (total 9 columns):\n",
      " #   Column         Non-Null Count  Dtype  \n",
      "---  ------         --------------  -----  \n",
      " 0   Car_Name       301 non-null    object \n",
      " 1   Year           301 non-null    int64  \n",
      " 2   Selling_Price  301 non-null    float64\n",
      " 3   Present_Price  301 non-null    float64\n",
      " 4   Kms_Driven     301 non-null    int64  \n",
      " 5   Fuel_Type      301 non-null    object \n",
      " 6   Seller_Type    301 non-null    object \n",
      " 7   Transmission   301 non-null    object \n",
      " 8   Owner          301 non-null    int64  \n",
      "dtypes: float64(2), int64(3), object(4)\n",
      "memory usage: 21.3+ KB\n"
     ]
    }
   ],
   "source": [
    "#Data types\n",
    "print(\"\\n4. Data types:\\n\", df.dtypes)\n",
    "df.info()"
   ]
  },
  {
   "cell_type": "code",
   "execution_count": null,
   "id": "b14b5f67",
   "metadata": {},
   "outputs": [],
   "source": [
    "colab file browser file name upload"
   ]
  },
  {
   "cell_type": "markdown",
   "id": "ea30306d",
   "metadata": {},
   "source": [
    "# 5.What are the unique values in the Fuel_Type, Seller_Type, and Transmission columns?"
   ]
  },
  {
   "cell_type": "code",
   "execution_count": 4,
   "id": "ec5261df",
   "metadata": {},
   "outputs": [
    {
     "data": {
      "text/plain": [
       "array(['Petrol', 'Diesel', 'CNG'], dtype=object)"
      ]
     },
     "execution_count": 4,
     "metadata": {},
     "output_type": "execute_result"
    }
   ],
   "source": [
    "df.Fuel_Type.unique()"
   ]
  },
  {
   "cell_type": "code",
   "execution_count": 5,
   "id": "802a8b69",
   "metadata": {},
   "outputs": [
    {
     "data": {
      "text/plain": [
       "array(['Dealer', 'Individual'], dtype=object)"
      ]
     },
     "execution_count": 5,
     "metadata": {},
     "output_type": "execute_result"
    }
   ],
   "source": [
    "df.Seller_Type.unique()"
   ]
  },
  {
   "cell_type": "code",
   "execution_count": 6,
   "id": "e779229d",
   "metadata": {},
   "outputs": [
    {
     "data": {
      "text/plain": [
       "array(['Manual', 'Automatic'], dtype=object)"
      ]
     },
     "execution_count": 6,
     "metadata": {},
     "output_type": "execute_result"
    }
   ],
   "source": [
    "df.Transmission.unique()"
   ]
  },
  {
   "cell_type": "markdown",
   "id": "4c3ba377",
   "metadata": {},
   "source": [
    "# 6.What is the average, maximum, and minimum Selling_Price?"
   ]
  },
  {
   "cell_type": "code",
   "execution_count": 24,
   "id": "1442cf83",
   "metadata": {},
   "outputs": [
    {
     "name": "stdout",
     "output_type": "stream",
     "text": [
      "Average Selling_Price:4.661296\n"
     ]
    }
   ],
   "source": [
    "average_price=df['Selling_Price'].mean()\n",
    "print(f\"Average Selling_Price:{average_price:f}\")"
   ]
  },
  {
   "cell_type": "code",
   "execution_count": 25,
   "id": "a29f750d",
   "metadata": {},
   "outputs": [
    {
     "name": "stdout",
     "output_type": "stream",
     "text": [
      "Maximum Selling_Price:35.000000\n"
     ]
    }
   ],
   "source": [
    "maximum_price=df['Selling_Price'].max()\n",
    "print(f\"Maximum Selling_Price:{maximum_price:f}\")"
   ]
  },
  {
   "cell_type": "code",
   "execution_count": 26,
   "id": "f8975f09",
   "metadata": {},
   "outputs": [
    {
     "name": "stdout",
     "output_type": "stream",
     "text": [
      "Minimum Selling_Price:0.100000\n"
     ]
    }
   ],
   "source": [
    "minimum_price=df['Selling_Price'].min()\n",
    "print(f\"Minimum Selling_Price:{minimum_price:f}\")"
   ]
  },
  {
   "cell_type": "markdown",
   "id": "7e9b52e8",
   "metadata": {},
   "source": [
    "# 7.What is the average Selling_Price by Fuel_Type?"
   ]
  },
  {
   "cell_type": "code",
   "execution_count": 30,
   "id": "0e557180",
   "metadata": {},
   "outputs": [
    {
     "name": "stdout",
     "output_type": "stream",
     "text": [
      "Fuel_Type\n",
      "CNG        3.100000\n",
      "Diesel    10.278500\n",
      "Petrol     3.264184\n",
      "Name: Selling_Price, dtype: float64\n"
     ]
    }
   ],
   "source": [
    "average_fuel = df.groupby('Fuel_Type')['Selling_Price'].mean()\n",
    "print(average_fuel)"
   ]
  },
  {
   "cell_type": "markdown",
   "id": "3f2251b8",
   "metadata": {},
   "source": [
    "# 8.What is the average Selling_Price by Transmission type?"
   ]
  },
  {
   "cell_type": "code",
   "execution_count": 31,
   "id": "70621f66",
   "metadata": {},
   "outputs": [
    {
     "name": "stdout",
     "output_type": "stream",
     "text": [
      "Transmission\n",
      "Automatic    9.420000\n",
      "Manual       3.931992\n",
      "Name: Selling_Price, dtype: float64\n"
     ]
    }
   ],
   "source": [
    "average_transmission=df.groupby('Transmission')['Selling_Price'].mean()\n",
    "print(average_transmission)"
   ]
  },
  {
   "cell_type": "markdown",
   "id": "93a4ff26",
   "metadata": {},
   "source": [
    "# 9.Which car model appears most frequently?"
   ]
  },
  {
   "cell_type": "code",
   "execution_count": 40,
   "id": "bf6856b4",
   "metadata": {},
   "outputs": [
    {
     "name": "stdout",
     "output_type": "stream",
     "text": [
      "The most frequent car model is city\n"
     ]
    }
   ],
   "source": [
    "most_common_car = df['Car_Name'].value_counts().idxmax() #index \n",
    "print(f\"The most frequent car model is {most_common_car}\")"
   ]
  },
  {
   "cell_type": "markdown",
   "id": "ae5dc250",
   "metadata": {},
   "source": [
    "# 10.What is the average Selling_Price for each car model?"
   ]
  },
  {
   "cell_type": "code",
   "execution_count": 48,
   "id": "8720760d",
   "metadata": {},
   "outputs": [
    {
     "name": "stdout",
     "output_type": "stream",
     "text": [
      "Car_Name\n",
      "800                  0.350000\n",
      "Activa 3g            0.310000\n",
      "Activa 4g            0.400000\n",
      "Bajaj  ct 100        0.180000\n",
      "Bajaj Avenger 150    0.750000\n",
      "                       ...   \n",
      "sx4                  3.158333\n",
      "verna                6.107857\n",
      "vitara brezza        9.250000\n",
      "wagon r              2.512500\n",
      "xcent                4.966667\n",
      "Name: Selling_Price, Length: 98, dtype: float64\n"
     ]
    }
   ],
   "source": [
    "average_price_each_carmodel = df.groupby('Car_Name')['Selling_Price'].mean()\n",
    "print(average_price_each_carmodel)"
   ]
  },
  {
   "cell_type": "markdown",
   "id": "16b831d6",
   "metadata": {},
   "source": [
    "# 11.What is the range of years in the dataset (min and max Year)?"
   ]
  },
  {
   "cell_type": "code",
   "execution_count": 57,
   "id": "0427cc09",
   "metadata": {},
   "outputs": [
    {
     "name": "stdout",
     "output_type": "stream",
     "text": [
      "Range of the Year from 2003 to 2018.\n"
     ]
    }
   ],
   "source": [
    "min_year=df['Year'].min()\n",
    "max_year=df['Year'].max()\n",
    "print(f\"Range of the Year  {min_year} to {max_year}.\")"
   ]
  },
  {
   "cell_type": "markdown",
   "id": "a690ab3f",
   "metadata": {},
   "source": [
    "# 12.What is the average Selling_Price grouped by Year?"
   ]
  },
  {
   "cell_type": "code",
   "execution_count": 58,
   "id": "248d12b0",
   "metadata": {},
   "outputs": [
    {
     "name": "stdout",
     "output_type": "stream",
     "text": [
      "Year\n",
      "2003    1.300000\n",
      "2004    1.500000\n",
      "2005    2.487500\n",
      "2006    1.437500\n",
      "2007    0.160000\n",
      "2008    1.002857\n",
      "2009    2.816667\n",
      "2010    5.262667\n",
      "2011    2.375263\n",
      "2012    3.841304\n",
      "2013    3.540909\n",
      "2014    4.762105\n",
      "2015    5.927049\n",
      "2016    5.213200\n",
      "2017    6.209143\n",
      "2018    9.250000\n",
      "Name: Selling_Price, dtype: float64\n"
     ]
    }
   ],
   "source": [
    "average_year=df.groupby('Year')['Selling_Price'].mean()\n",
    "print(average_year)"
   ]
  },
  {
   "cell_type": "markdown",
   "id": "6aed8de7",
   "metadata": {},
   "source": [
    "# 13.What is the most common number of owners (from the Owner column)?"
   ]
  },
  {
   "cell_type": "code",
   "execution_count": 70,
   "id": "d1c74218",
   "metadata": {},
   "outputs": [
    {
     "name": "stdout",
     "output_type": "stream",
     "text": [
      "The most common number of owner 0 , 290 times.\n"
     ]
    }
   ],
   "source": [
    "most_common_owner = df['Owner'].value_counts().idxmax()\n",
    "count = df['Owner'].value_counts().max()\n",
    "\n",
    "print(f\"The most common number of owner {most_common_owner} , {count} times.\")"
   ]
  },
  {
   "cell_type": "markdown",
   "id": "17b04caa",
   "metadata": {},
   "source": [
    "# 14.What is the average number of kilometers driven (Kms_Driven)?"
   ]
  },
  {
   "cell_type": "code",
   "execution_count": 81,
   "id": "60000aaf",
   "metadata": {},
   "outputs": [
    {
     "name": "stdout",
     "output_type": "stream",
     "text": [
      "The average number of kilometers driven is 36947.20598006644 km.\n"
     ]
    }
   ],
   "source": [
    "average_kms=df['Kms_Driven'].mean()\n",
    "print(f\"The average number of kilometers driven is {average_kms} km.\")"
   ]
  },
  {
   "cell_type": "markdown",
   "id": "bdda1e1c",
   "metadata": {},
   "source": [
    "# 15.Which car has the highest Present_Price?"
   ]
  },
  {
   "cell_type": "code",
   "execution_count": 87,
   "id": "62bd9f05",
   "metadata": {},
   "outputs": [
    {
     "name": "stdout",
     "output_type": "stream",
     "text": [
      "Car_Name         land cruiser\n",
      "Year                     2010\n",
      "Selling_Price            35.0\n",
      "Present_Price            92.6\n",
      "Kms_Driven              78000\n",
      "Fuel_Type              Diesel\n",
      "Seller_Type            Dealer\n",
      "Transmission           Manual\n",
      "Owner                       0\n",
      "Name: 86, dtype: object\n"
     ]
    }
   ],
   "source": [
    "highest_present_price = df.loc[df['Present_Price'].idxmax()] #idxmax=return index row number / loc=access row in dataframe\n",
    "print(highest_present_price)"
   ]
  },
  {
   "cell_type": "markdown",
   "id": "3d4cab7e",
   "metadata": {},
   "source": [
    "# 16.What is the correlation between Selling_Price, Present_Price, and Kms_Driven?"
   ]
  },
  {
   "cell_type": "code",
   "execution_count": 88,
   "id": "80ea04c5",
   "metadata": {},
   "outputs": [
    {
     "name": "stdout",
     "output_type": "stream",
     "text": [
      "               Selling_Price  Present_Price  Kms_Driven\n",
      "Selling_Price       1.000000       0.878983    0.029187\n",
      "Present_Price       0.878983       1.000000    0.203647\n",
      "Kms_Driven          0.029187       0.203647    1.000000\n"
     ]
    }
   ],
   "source": [
    "correlation=df[['Selling_Price', 'Present_Price', 'Kms_Driven']].corr()\n",
    "print(correlation)"
   ]
  },
  {
   "cell_type": "markdown",
   "id": "ce2a522f",
   "metadata": {},
   "source": [
    "# 17.Which Seller_Type has the highest average Selling_Price?"
   ]
  },
  {
   "cell_type": "code",
   "execution_count": 97,
   "id": "feffd743",
   "metadata": {},
   "outputs": [
    {
     "name": "stdout",
     "output_type": "stream",
     "text": [
      "The seller type highest average selling price is 'Dealer' with an average of ₹6.72.\n"
     ]
    }
   ],
   "source": [
    "average_price_seller = df.groupby('Seller_Type')['Selling_Price'].mean()\n",
    "highest_avg_seller = average_price_seller.idxmax()\n",
    "highest_avg_price = average_price_seller.max()\n",
    "print(f\"The seller type highest average selling price is '{highest_avg_seller}' with an average of ₹{highest_avg_price:.2f}.\")"
   ]
  },
  {
   "cell_type": "markdown",
   "id": "9ec620d2",
   "metadata": {},
   "source": [
    "# 18.How many cars are there of each Fuel_Type?"
   ]
  },
  {
   "cell_type": "code",
   "execution_count": 98,
   "id": "08eb3897",
   "metadata": {},
   "outputs": [
    {
     "name": "stdout",
     "output_type": "stream",
     "text": [
      "Petrol    239\n",
      "Diesel     60\n",
      "CNG         2\n",
      "Name: Fuel_Type, dtype: int64\n"
     ]
    }
   ],
   "source": [
    "fuel_counts = df['Fuel_Type'].value_counts()\n",
    "print(fuel_counts)"
   ]
  },
  {
   "cell_type": "markdown",
   "id": "f6cc1de8",
   "metadata": {},
   "source": [
    "# 19.How many cars have more than one previous owner?"
   ]
  },
  {
   "cell_type": "code",
   "execution_count": 118,
   "id": "b9b77638",
   "metadata": {},
   "outputs": [
    {
     "name": "stdout",
     "output_type": "stream",
     "text": [
      "There are  cars 9 with more than one previous owner.\n"
     ]
    }
   ],
   "source": [
    "more_than_one_owner = df[df['Owner'] > 1]\n",
    "count = more_than_one_owner.shape[1]\n",
    "\n",
    "print(f\"There are  cars {count} with more than one previous owner.\")"
   ]
  },
  {
   "cell_type": "markdown",
   "id": "945c41b6",
   "metadata": {},
   "source": [
    "# 20.What are the top 5 most expensive cars in the dataset?"
   ]
  },
  {
   "cell_type": "code",
   "execution_count": 3,
   "id": "120782b9",
   "metadata": {},
   "outputs": [
    {
     "name": "stdout",
     "output_type": "stream",
     "text": [
      "  Car_Name  Year  Selling_Price  Present_Price Fuel_Type\n",
      "0     ritz  2014           3.35           5.59    Petrol\n",
      "1      sx4  2013           4.75           9.54    Diesel\n",
      "2     ciaz  2017           7.25           9.85    Petrol\n",
      "3  wagon r  2011           2.85           4.15    Petrol\n",
      "4    swift  2014           4.60           6.87    Diesel\n"
     ]
    }
   ],
   "source": [
    "top_5_expensive=df.head(5)\n",
    "print(top_5_expensive[['Car_Name','Year','Selling_Price','Present_Price','Fuel_Type']])"
   ]
  },
  {
   "cell_type": "markdown",
   "id": "f5183eb4",
   "metadata": {},
   "source": [
    "# 21.What is the average difference between Present_Price and Selling_Price?"
   ]
  },
  {
   "cell_type": "code",
   "execution_count": 130,
   "id": "517b2f19",
   "metadata": {},
   "outputs": [
    {
     "name": "stdout",
     "output_type": "stream",
     "text": [
      "The average difference between Present_Price and Selling_Price is ₹2.97.\n"
     ]
    }
   ],
   "source": [
    "difference = (df['Present_Price']-df['Selling_Price']).mean()\n",
    "print(f\"The average difference between Present_Price and Selling_Price is ₹{difference:.2f}.\")"
   ]
  },
  {
   "cell_type": "markdown",
   "id": "1a9b1d1e",
   "metadata": {},
   "source": [
    "# 22.How many cars are being sold by individual sellers vs dealers?"
   ]
  },
  {
   "cell_type": "code",
   "execution_count": 131,
   "id": "d3788965",
   "metadata": {},
   "outputs": [
    {
     "name": "stdout",
     "output_type": "stream",
     "text": [
      "Dealer        195\n",
      "Individual    106\n",
      "Name: Seller_Type, dtype: int64\n"
     ]
    }
   ],
   "source": [
    "seller_counts = df['Seller_Type'].value_counts()\n",
    "print(seller_counts)"
   ]
  },
  {
   "cell_type": "markdown",
   "id": "aaccc343",
   "metadata": {},
   "source": [
    "# 23.How many cars were manufactured before 2010?"
   ]
  },
  {
   "cell_type": "code",
   "execution_count": 137,
   "id": "080465dd",
   "metadata": {},
   "outputs": [
    {
     "name": "stdout",
     "output_type": "stream",
     "text": [
      "There are 26 cars manufactured before 2010.\n"
     ]
    }
   ],
   "source": [
    "cars_before_2010 = df[df['Year'] < 2010]\n",
    "count = cars_before_2010.shape[0]\n",
    "print(f\"There are {count} cars manufactured before 2010.\")"
   ]
  },
  {
   "cell_type": "markdown",
   "id": "456260a9",
   "metadata": {},
   "source": [
    "# 24.Which year has the highest number of car listings?"
   ]
  },
  {
   "cell_type": "code",
   "execution_count": 138,
   "id": "045d1b52",
   "metadata": {},
   "outputs": [
    {
     "name": "stdout",
     "output_type": "stream",
     "text": [
      " Year has the highest number of car listings is 2015, with 61 cars.\n"
     ]
    }
   ],
   "source": [
    "listings_year = df['Year'].value_counts().idxmax()\n",
    "listing_count = df['Year'].value_counts().max()\n",
    "print(f\" Year has the highest number of car listings is {listings_year}, with {listing_count} cars.\")"
   ]
  },
  {
   "cell_type": "markdown",
   "id": "b95637c9",
   "metadata": {},
   "source": [
    "# 25.What percentage of cars are using diesel vs petrol vs CNG?"
   ]
  },
  {
   "cell_type": "code",
   "execution_count": 144,
   "id": "e465c551",
   "metadata": {},
   "outputs": [
    {
     "name": "stdout",
     "output_type": "stream",
     "text": [
      "Petrol    79.40\n",
      "Diesel    19.93\n",
      "CNG        0.66\n",
      "Name: Fuel_Type, dtype: float64\n"
     ]
    }
   ],
   "source": [
    "fuel_percentages = df['Fuel_Type'].value_counts(normalize=True) * 100\n",
    "print(fuel_percentages.round(2))"
   ]
  },
  {
   "cell_type": "markdown",
   "id": "1796d19d",
   "metadata": {},
   "source": [
    "# 26.What is the highest and lowest Kms_Driven for each fuel type?"
   ]
  },
  {
   "cell_type": "code",
   "execution_count": 145,
   "id": "e86b982c",
   "metadata": {},
   "outputs": [
    {
     "name": "stdout",
     "output_type": "stream",
     "text": [
      "             min     max\n",
      "Fuel_Type               \n",
      "CNG        35500   49998\n",
      "Diesel      2071  197176\n",
      "Petrol       500  500000\n"
     ]
    }
   ],
   "source": [
    "kms_fuel = df.groupby('Fuel_Type')['Kms_Driven'].agg(['min', 'max']) #agg=the data compute max and min\n",
    "print(kms_fuel)"
   ]
  },
  {
   "cell_type": "markdown",
   "id": "6edfba5c",
   "metadata": {},
   "source": [
    "# 27.How many cars were sold with exactly 0 previous owners?"
   ]
  },
  {
   "cell_type": "code",
   "execution_count": 150,
   "id": "d611646c",
   "metadata": {},
   "outputs": [
    {
     "name": "stdout",
     "output_type": "stream",
     "text": [
      "There are 290 cars sold with exactly 0 previous owners.\n"
     ]
    }
   ],
   "source": [
    "owner_cars = df[df['Owner'] == 0]\n",
    "count = owner_cars.shape[0]\n",
    "print(f\"There are {count} cars sold with exactly 0 previous owners.\")"
   ]
  },
  {
   "cell_type": "markdown",
   "id": "139171c4",
   "metadata": {},
   "source": [
    "# 28.How many unique combinations of Fuel_Type, Seller_Type, and Transmission exist?"
   ]
  },
  {
   "cell_type": "code",
   "execution_count": 151,
   "id": "9a5d50df",
   "metadata": {},
   "outputs": [
    {
     "name": "stdout",
     "output_type": "stream",
     "text": [
      "There are 8 unique combinations of Fuel_Type, Seller_Type, and Transmission.\n"
     ]
    }
   ],
   "source": [
    "unique_combinations = df[['Fuel_Type', 'Seller_Type', 'Transmission']].drop_duplicates()\n",
    "count = unique_combinations.shape[0]\n",
    "print(f\"There are {count} unique combinations of Fuel_Type, Seller_Type, and Transmission.\")"
   ]
  },
  {
   "cell_type": "markdown",
   "id": "fd1633f8",
   "metadata": {},
   "source": [
    "# 29.What is the average Selling_Price of cars that have more than 2 previous owners?"
   ]
  },
  {
   "cell_type": "code",
   "execution_count": 152,
   "id": "95fd52af",
   "metadata": {},
   "outputs": [
    {
     "name": "stdout",
     "output_type": "stream",
     "text": [
      "average Selling_Price of cars with more than 2 previous owners is ₹2.50.\n"
     ]
    }
   ],
   "source": [
    "avg_owners = df[df['Owner'] > 2]['Selling_Price'].mean()\n",
    "print(f\"average Selling_Price of cars with more than 2 previous owners is ₹{avg_owners:.2f}.\")"
   ]
  },
  {
   "cell_type": "markdown",
   "id": "fe3703f2",
   "metadata": {},
   "source": [
    "# 30.Are there any cars where Selling_Price is greater than Present_Price?"
   ]
  },
  {
   "cell_type": "code",
   "execution_count": 153,
   "id": "01e2fd96",
   "metadata": {},
   "outputs": [
    {
     "name": "stdout",
     "output_type": "stream",
     "text": [
      "There are 0 cars where Selling_Price is greater than Present_Price.\n"
     ]
    }
   ],
   "source": [
    "greater_than = df[df['Selling_Price'] > df['Present_Price']]\n",
    "count = greater_than.shape[0]\n",
    "print(f\"There are {count} cars where Selling_Price is greater than Present_Price.\")"
   ]
  },
  {
   "cell_type": "code",
   "execution_count": null,
   "id": "7fd02f8d",
   "metadata": {},
   "outputs": [],
   "source": []
  }
 ],
 "metadata": {
  "kernelspec": {
   "display_name": "Python 3 (ipykernel)",
   "language": "python",
   "name": "python3"
  },
  "language_info": {
   "codemirror_mode": {
    "name": "ipython",
    "version": 3
   },
   "file_extension": ".py",
   "mimetype": "text/x-python",
   "name": "python",
   "nbconvert_exporter": "python",
   "pygments_lexer": "ipython3",
   "version": "3.9.13"
  }
 },
 "nbformat": 4,
 "nbformat_minor": 5
}
